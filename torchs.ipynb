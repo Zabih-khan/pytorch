{
  "nbformat": 4,
  "nbformat_minor": 0,
  "metadata": {
    "colab": {
      "provenance": [],
      "gpuType": "T4"
    },
    "kernelspec": {
      "name": "python3",
      "display_name": "Python 3"
    },
    "language_info": {
      "name": "python"
    },
    "accelerator": "GPU"
  },
  "cells": [
    {
      "cell_type": "code",
      "execution_count": null,
      "metadata": {
        "id": "ffM0wKEJAMnp"
      },
      "outputs": [],
      "source": [
        "import torch"
      ]
    },
    {
      "cell_type": "code",
      "source": [
        "torch.__version__"
      ],
      "metadata": {
        "colab": {
          "base_uri": "https://localhost:8080/",
          "height": 35
        },
        "id": "52hjjFtGAjMP",
        "outputId": "5edb728f-f90a-4cf3-81f5-656fe387d04f"
      },
      "execution_count": null,
      "outputs": [
        {
          "output_type": "execute_result",
          "data": {
            "text/plain": [
              "'2.5.1+cu121'"
            ],
            "application/vnd.google.colaboratory.intrinsic+json": {
              "type": "string"
            }
          },
          "metadata": {},
          "execution_count": 2
        }
      ]
    },
    {
      "cell_type": "code",
      "source": [
        "if torch.cuda.is_available():\n",
        "    print('CUDA is available')\n",
        "    print(\"Device Name:\", torch.cuda.get_device_name(0))\n",
        "else:\n",
        "    print('CUDA is not available')"
      ],
      "metadata": {
        "colab": {
          "base_uri": "https://localhost:8080/"
        },
        "id": "jAxasguPA6mN",
        "outputId": "4ef6544d-e81f-4b8f-d2a0-551d7e6d330b"
      },
      "execution_count": null,
      "outputs": [
        {
          "output_type": "stream",
          "name": "stdout",
          "text": [
            "CUDA is available\n",
            "Device Name: Tesla T4\n"
          ]
        }
      ]
    },
    {
      "cell_type": "markdown",
      "source": [
        "# Create Torch"
      ],
      "metadata": {
        "id": "mK4jxHd3BbCa"
      }
    },
    {
      "cell_type": "code",
      "source": [
        "# empty\n",
        "a = torch.empty((2,3), dtype=torch.float32)"
      ],
      "metadata": {
        "id": "ZRQ1WGC3BBw8"
      },
      "execution_count": null,
      "outputs": []
    },
    {
      "cell_type": "code",
      "source": [
        "#type\n",
        "type(a)"
      ],
      "metadata": {
        "colab": {
          "base_uri": "https://localhost:8080/"
        },
        "id": "xaLjbE98CBk2",
        "outputId": "a71b746e-797b-4f3c-8cfd-eb671209c605"
      },
      "execution_count": null,
      "outputs": [
        {
          "output_type": "execute_result",
          "data": {
            "text/plain": [
              "torch.Tensor"
            ]
          },
          "metadata": {},
          "execution_count": 9
        }
      ]
    },
    {
      "cell_type": "code",
      "source": [
        "#using zero\n",
        "torch.zeros((2,4))"
      ],
      "metadata": {
        "colab": {
          "base_uri": "https://localhost:8080/"
        },
        "id": "CI3EHy7QCBvG",
        "outputId": "7bfbd788-ee2b-4075-b771-4172c4b33eca"
      },
      "execution_count": null,
      "outputs": [
        {
          "output_type": "execute_result",
          "data": {
            "text/plain": [
              "tensor([[0., 0., 0., 0.],\n",
              "        [0., 0., 0., 0.]])"
            ]
          },
          "metadata": {},
          "execution_count": 10
        }
      ]
    },
    {
      "cell_type": "code",
      "source": [
        "# using one\n",
        "torch.ones((2,4))"
      ],
      "metadata": {
        "colab": {
          "base_uri": "https://localhost:8080/"
        },
        "id": "-daTXK50CBzO",
        "outputId": "4806999e-374f-49cc-b180-c2167b596a5f"
      },
      "execution_count": null,
      "outputs": [
        {
          "output_type": "execute_result",
          "data": {
            "text/plain": [
              "tensor([[1., 1., 1., 1.],\n",
              "        [1., 1., 1., 1.]])"
            ]
          },
          "metadata": {},
          "execution_count": 11
        }
      ]
    },
    {
      "cell_type": "code",
      "source": [
        "#using rand\n",
        "\n",
        "torch.rand((2,3))"
      ],
      "metadata": {
        "colab": {
          "base_uri": "https://localhost:8080/"
        },
        "id": "8G2e2sGuCB3S",
        "outputId": "8f87e687-a4db-4427-e5ba-3f948b52d9fb"
      },
      "execution_count": null,
      "outputs": [
        {
          "output_type": "execute_result",
          "data": {
            "text/plain": [
              "tensor([[0.1990, 0.8459, 0.5265],\n",
              "        [0.1925, 0.0028, 0.8528]])"
            ]
          },
          "metadata": {},
          "execution_count": 12
        }
      ]
    },
    {
      "cell_type": "code",
      "source": [
        "# using manual seed\n",
        "torch.manual_seed(42)\n",
        "torch.rand((2,3))"
      ],
      "metadata": {
        "colab": {
          "base_uri": "https://localhost:8080/"
        },
        "id": "rmHO-W1KCB6P",
        "outputId": "dca98f2a-d639-4836-d991-26a85aec0c48"
      },
      "execution_count": null,
      "outputs": [
        {
          "output_type": "execute_result",
          "data": {
            "text/plain": [
              "tensor([[0.8823, 0.9150, 0.3829],\n",
              "        [0.9593, 0.3904, 0.6009]])"
            ]
          },
          "metadata": {},
          "execution_count": 13
        }
      ]
    },
    {
      "cell_type": "code",
      "source": [
        "#other way\n",
        "\n",
        "print(\"using arange-> \",torch.arange(0,10,2))\n",
        "\n",
        "print(\"using linspace-> \",torch.linspace(0,10,2))\n",
        "\n",
        "print(\"using eye-> \",torch.eye(3))\n",
        "\n",
        "print(\"using full-> \",torch.full((2,3), 3))\n"
      ],
      "metadata": {
        "colab": {
          "base_uri": "https://localhost:8080/"
        },
        "id": "lYCK_DP9CB9y",
        "outputId": "fccd1ce0-57c0-4b60-a21e-67343d6ae290"
      },
      "execution_count": null,
      "outputs": [
        {
          "output_type": "stream",
          "name": "stdout",
          "text": [
            "using arange->  tensor([0, 2, 4, 6, 8])\n",
            "using linspace->  tensor([ 0., 10.])\n",
            "using eye->  tensor([[1., 0., 0.],\n",
            "        [0., 1., 0.],\n",
            "        [0., 0., 1.]])\n",
            "using full->  tensor([[3, 3, 3],\n",
            "        [3, 3, 3]])\n"
          ]
        }
      ]
    },
    {
      "cell_type": "markdown",
      "source": [
        "# Tensor shape"
      ],
      "metadata": {
        "id": "LJHahfPZEhVl"
      }
    },
    {
      "cell_type": "code",
      "source": [
        "x = torch.tensor([[1,2,3], [3,4,5]])\n",
        "x"
      ],
      "metadata": {
        "colab": {
          "base_uri": "https://localhost:8080/"
        },
        "id": "EnnKE6u4CCA5",
        "outputId": "6b833e9d-0b9e-40a1-c74f-4bf60dc7d20a"
      },
      "execution_count": null,
      "outputs": [
        {
          "output_type": "execute_result",
          "data": {
            "text/plain": [
              "tensor([[1, 2, 3],\n",
              "        [3, 4, 5]])"
            ]
          },
          "metadata": {},
          "execution_count": 22
        }
      ]
    },
    {
      "cell_type": "code",
      "source": [
        "x.shape"
      ],
      "metadata": {
        "colab": {
          "base_uri": "https://localhost:8080/"
        },
        "id": "GgntvspmEzFS",
        "outputId": "d9c57a50-4091-4bb4-ef79-e4f0493eb3fc"
      },
      "execution_count": null,
      "outputs": [
        {
          "output_type": "execute_result",
          "data": {
            "text/plain": [
              "torch.Size([2, 3])"
            ]
          },
          "metadata": {},
          "execution_count": 23
        }
      ]
    },
    {
      "cell_type": "code",
      "source": [
        "print(torch.empty_like(x))"
      ],
      "metadata": {
        "colab": {
          "base_uri": "https://localhost:8080/"
        },
        "id": "ap1QLEn4E0zp",
        "outputId": "dd0c5ab6-3d95-4067-f5ff-3a4bd1b7bef8"
      },
      "execution_count": null,
      "outputs": [
        {
          "output_type": "stream",
          "name": "stdout",
          "text": [
            "tensor([[    140109417586064,     140109417586064,                   0],\n",
            "        [                  0,                   0, 7310593858020254331]])\n"
          ]
        }
      ]
    },
    {
      "cell_type": "code",
      "source": [
        "torch.zeros_like(x)"
      ],
      "metadata": {
        "colab": {
          "base_uri": "https://localhost:8080/"
        },
        "id": "CrkkL3OgFALK",
        "outputId": "07f92d1d-a655-47e2-c93d-a56c837c16ba"
      },
      "execution_count": null,
      "outputs": [
        {
          "output_type": "execute_result",
          "data": {
            "text/plain": [
              "tensor([[0, 0, 0],\n",
              "        [0, 0, 0]])"
            ]
          },
          "metadata": {},
          "execution_count": 28
        }
      ]
    },
    {
      "cell_type": "markdown",
      "source": [
        "# Tensor Data type"
      ],
      "metadata": {
        "id": "q-e3CVGII4pf"
      }
    },
    {
      "cell_type": "code",
      "source": [
        "# find data type\n",
        "x.dtype"
      ],
      "metadata": {
        "colab": {
          "base_uri": "https://localhost:8080/"
        },
        "id": "B9OrzGpqItpF",
        "outputId": "bd0c49fb-92fb-48a0-9754-eb281a7234e4"
      },
      "execution_count": null,
      "outputs": [
        {
          "output_type": "execute_result",
          "data": {
            "text/plain": [
              "torch.int64"
            ]
          },
          "metadata": {},
          "execution_count": 29
        }
      ]
    },
    {
      "cell_type": "code",
      "source": [
        "torch.tensor([[1,2,3], [2,3,4]], dtype = torch.float)"
      ],
      "metadata": {
        "colab": {
          "base_uri": "https://localhost:8080/"
        },
        "id": "rc6pdP6bJBXd",
        "outputId": "e88839e8-52a8-4155-eb9d-ecb2054b1eeb"
      },
      "execution_count": null,
      "outputs": [
        {
          "output_type": "execute_result",
          "data": {
            "text/plain": [
              "tensor([[1., 2., 3.],\n",
              "        [2., 3., 4.]])"
            ]
          },
          "metadata": {},
          "execution_count": 32
        }
      ]
    },
    {
      "cell_type": "code",
      "source": [
        "# usgin to()\n",
        "\n",
        "x.to(torch.float16)"
      ],
      "metadata": {
        "colab": {
          "base_uri": "https://localhost:8080/"
        },
        "id": "y70H_tUKJM1I",
        "outputId": "24e74146-04f2-462d-93d5-c4119b4efc36"
      },
      "execution_count": null,
      "outputs": [
        {
          "output_type": "execute_result",
          "data": {
            "text/plain": [
              "tensor([[1., 2., 3.],\n",
              "        [3., 4., 5.]], dtype=torch.float16)"
            ]
          },
          "metadata": {},
          "execution_count": 34
        }
      ]
    },
    {
      "cell_type": "markdown",
      "source": [
        "# mathimatical operation"
      ],
      "metadata": {
        "id": "7whWp1q8J0KY"
      }
    },
    {
      "cell_type": "code",
      "source": [
        "x = torch.rand((2,4))\n",
        "x"
      ],
      "metadata": {
        "colab": {
          "base_uri": "https://localhost:8080/"
        },
        "id": "ktTE1Gu0Jk3X",
        "outputId": "261dc937-9b73-4c99-9378-e99f9a43c16f"
      },
      "execution_count": null,
      "outputs": [
        {
          "output_type": "execute_result",
          "data": {
            "text/plain": [
              "tensor([[0.7411, 0.4294, 0.8854, 0.5739],\n",
              "        [0.2666, 0.6274, 0.2696, 0.4414]])"
            ]
          },
          "metadata": {},
          "execution_count": 36
        }
      ]
    },
    {
      "cell_type": "code",
      "source": [
        "# addition\n",
        "x + 2\n",
        "\n",
        "# subtraction\n",
        "x - 2\n",
        "\n",
        "# multiplication\n",
        "x * 2\n",
        "\n",
        "# division\n",
        "x / 2\n",
        "\n",
        "# int divsion\n",
        "(x *100) //2\n",
        "\n",
        "# mod\n",
        "((x *100) //2) % 2\n",
        "# power\n",
        "\n",
        "x**2\n",
        "\n"
      ],
      "metadata": {
        "colab": {
          "base_uri": "https://localhost:8080/"
        },
        "id": "30pfpgZ2J8PE",
        "outputId": "accca146-24e2-40e9-b005-9e3a3b1fe010"
      },
      "execution_count": null,
      "outputs": [
        {
          "output_type": "execute_result",
          "data": {
            "text/plain": [
              "tensor([[0.5492, 0.1844, 0.7840, 0.3294],\n",
              "        [0.0711, 0.3937, 0.0727, 0.1948]])"
            ]
          },
          "metadata": {},
          "execution_count": 46
        }
      ]
    },
    {
      "cell_type": "code",
      "source": [
        "c = torch.tensor(([3,4,5], [4,5,6]))\n",
        "c"
      ],
      "metadata": {
        "colab": {
          "base_uri": "https://localhost:8080/"
        },
        "id": "X62TK_ELKbHv",
        "outputId": "0640f90a-df88-4e3d-8849-16ae06bcd7ff"
      },
      "execution_count": null,
      "outputs": [
        {
          "output_type": "execute_result",
          "data": {
            "text/plain": [
              "tensor([[3, 4, 5],\n",
              "        [4, 5, 6]])"
            ]
          },
          "metadata": {},
          "execution_count": 63
        }
      ]
    },
    {
      "cell_type": "code",
      "source": [
        "# absolute value\n",
        "torch.abs(c)"
      ],
      "metadata": {
        "colab": {
          "base_uri": "https://localhost:8080/"
        },
        "id": "-JJh3LKeQCX7",
        "outputId": "c4b03554-46bf-4599-d187-0cff1db2d23f"
      },
      "execution_count": null,
      "outputs": [
        {
          "output_type": "execute_result",
          "data": {
            "text/plain": [
              "tensor([[3, 4, 5],\n",
              "        [4, 5, 6]])"
            ]
          },
          "metadata": {},
          "execution_count": 53
        }
      ]
    },
    {
      "cell_type": "code",
      "source": [
        "# negative\n",
        "torch.neg(c)"
      ],
      "metadata": {
        "colab": {
          "base_uri": "https://localhost:8080/"
        },
        "id": "mfoCZbvsQLyw",
        "outputId": "3c9410f6-ae95-4029-e4b1-85d810de166e"
      },
      "execution_count": null,
      "outputs": [
        {
          "output_type": "execute_result",
          "data": {
            "text/plain": [
              "tensor([[-3, -4, -5],\n",
              "        [-4, -5, -6]])"
            ]
          },
          "metadata": {},
          "execution_count": 54
        }
      ]
    },
    {
      "cell_type": "code",
      "source": [
        "# round\n",
        "\n",
        "d = torch.tensor(([2.99,3.99,4], [43,4,5]))\n",
        "torch.round(d)"
      ],
      "metadata": {
        "colab": {
          "base_uri": "https://localhost:8080/"
        },
        "id": "ioTZE1yQQXOf",
        "outputId": "e2f4eb52-2416-48d7-deb3-52e71fc9ab41"
      },
      "execution_count": null,
      "outputs": [
        {
          "output_type": "execute_result",
          "data": {
            "text/plain": [
              "tensor([[ 3.,  4.,  4.],\n",
              "        [43.,  4.,  5.]])"
            ]
          },
          "metadata": {},
          "execution_count": 61
        }
      ]
    },
    {
      "cell_type": "code",
      "source": [
        "# ceil\n",
        "torch.ceil(d)\n",
        "\n"
      ],
      "metadata": {
        "colab": {
          "base_uri": "https://localhost:8080/"
        },
        "id": "PEM5eN2aQiaT",
        "outputId": "16fcb668-15a1-4d6c-8348-ec1f6ce8b3f5"
      },
      "execution_count": null,
      "outputs": [
        {
          "output_type": "execute_result",
          "data": {
            "text/plain": [
              "tensor([[ 3.,  4.,  4.],\n",
              "        [43.,  4.,  5.]])"
            ]
          },
          "metadata": {},
          "execution_count": 62
        }
      ]
    },
    {
      "cell_type": "code",
      "source": [
        "# floar\n",
        "torch.floor(d)"
      ],
      "metadata": {
        "colab": {
          "base_uri": "https://localhost:8080/"
        },
        "id": "_zjwOe37Q9pb",
        "outputId": "4138294c-8c16-487f-cefc-86d0c81d6925"
      },
      "execution_count": null,
      "outputs": [
        {
          "output_type": "execute_result",
          "data": {
            "text/plain": [
              "tensor([[ 2.,  3.,  4.],\n",
              "        [43.,  4.,  5.]])"
            ]
          },
          "metadata": {},
          "execution_count": 64
        }
      ]
    },
    {
      "cell_type": "code",
      "source": [
        "# clamp\n",
        "\n",
        "torch.clamp(d, min = 2, max = 4)"
      ],
      "metadata": {
        "colab": {
          "base_uri": "https://localhost:8080/"
        },
        "id": "kx4VYUzbRK8y",
        "outputId": "72e06e0a-5f9f-48a7-b1d3-0fcedcdb4f72"
      },
      "execution_count": null,
      "outputs": [
        {
          "output_type": "execute_result",
          "data": {
            "text/plain": [
              "tensor([[2.9900, 3.9900, 4.0000],\n",
              "        [4.0000, 4.0000, 4.0000]])"
            ]
          },
          "metadata": {},
          "execution_count": 65
        }
      ]
    },
    {
      "cell_type": "code",
      "source": [],
      "metadata": {
        "id": "i9kSsWPARjXa"
      },
      "execution_count": null,
      "outputs": []
    },
    {
      "cell_type": "markdown",
      "source": [
        "# Reduction operation\n"
      ],
      "metadata": {
        "id": "sLGH1TU5Rwjx"
      }
    },
    {
      "cell_type": "code",
      "source": [
        "e = torch.randint( size = (2,4), low = 0, high = 10)\n",
        "e"
      ],
      "metadata": {
        "colab": {
          "base_uri": "https://localhost:8080/"
        },
        "id": "4hQXZ52JRyax",
        "outputId": "894a606b-77d3-48fc-b6b6-65abcb0ab582"
      },
      "execution_count": null,
      "outputs": [
        {
          "output_type": "execute_result",
          "data": {
            "text/plain": [
              "tensor([[2, 0, 5, 9],\n",
              "        [3, 4, 9, 6]])"
            ]
          },
          "metadata": {},
          "execution_count": 70
        }
      ]
    },
    {
      "cell_type": "code",
      "source": [
        "sum = torch.sum(e)\n",
        "\n",
        "# sum along column\n",
        "sum = torch.sum(  e, dim = 0)\n",
        "print(\"sum along column:\", sum)\n",
        "\n",
        "# sum along row\n",
        "sum = torch.sum(  e, dim = 1)\n",
        "# sum along row\n",
        "print(\"sum along row:\", sum)\n",
        "\n",
        "\n"
      ],
      "metadata": {
        "colab": {
          "base_uri": "https://localhost:8080/"
        },
        "id": "QH7h4bisSBz6",
        "outputId": "b6e0736b-f2d1-4c2f-a8ce-cf416afdd449"
      },
      "execution_count": null,
      "outputs": [
        {
          "output_type": "stream",
          "name": "stdout",
          "text": [
            "sum along column: tensor([ 5,  4, 14, 15])\n",
            "sum along row: tensor([16, 22])\n"
          ]
        }
      ]
    },
    {
      "cell_type": "code",
      "source": [
        "import torch\n",
        "d = torch.tensor([2,3,4], dtype = float)\n",
        "\n",
        "# mean\n",
        "torch.mean(d)"
      ],
      "metadata": {
        "colab": {
          "base_uri": "https://localhost:8080/"
        },
        "id": "c7-rxCLNSiJ8",
        "outputId": "8cdca9ff-133c-4581-db10-4322fa5710a1"
      },
      "execution_count": null,
      "outputs": [
        {
          "output_type": "execute_result",
          "data": {
            "text/plain": [
              "tensor(3., dtype=torch.float64)"
            ]
          },
          "metadata": {},
          "execution_count": 5
        }
      ]
    },
    {
      "cell_type": "code",
      "source": [
        "# matrix multiplication\n",
        "a = torch.tensor([23,4,5])\n",
        "b = torch.tensor([3,4,5])\n",
        "\n",
        "torch.matmul(a,b)"
      ],
      "metadata": {
        "colab": {
          "base_uri": "https://localhost:8080/"
        },
        "id": "IBwtMnMpTBBo",
        "outputId": "67695863-e3a4-477c-8ccd-f82fd33b2500"
      },
      "execution_count": null,
      "outputs": [
        {
          "output_type": "execute_result",
          "data": {
            "text/plain": [
              "tensor(110)"
            ]
          },
          "metadata": {},
          "execution_count": 6
        }
      ]
    },
    {
      "cell_type": "code",
      "source": [
        "# dot product\n",
        "\n",
        "torch.dot(a,b)\n"
      ],
      "metadata": {
        "colab": {
          "base_uri": "https://localhost:8080/"
        },
        "id": "5GIeoWefY2rX",
        "outputId": "369af8bd-44b1-4448-89da-6991d575b18a"
      },
      "execution_count": null,
      "outputs": [
        {
          "output_type": "execute_result",
          "data": {
            "text/plain": [
              "tensor(110)"
            ]
          },
          "metadata": {},
          "execution_count": 7
        }
      ]
    },
    {
      "cell_type": "code",
      "source": [
        "# determinit\n",
        "h = torch.randint(size = (2,2), low = 0, high = 10, dtype = torch.float64)\n",
        "\n",
        "torch.det(h)"
      ],
      "metadata": {
        "colab": {
          "base_uri": "https://localhost:8080/"
        },
        "id": "1JG1rpRwY-qd",
        "outputId": "effe7c21-45fa-47a3-e587-3ed8c19194b8"
      },
      "execution_count": null,
      "outputs": [
        {
          "output_type": "execute_result",
          "data": {
            "text/plain": [
              "tensor(42., dtype=torch.float64)"
            ]
          },
          "metadata": {},
          "execution_count": 14
        }
      ]
    },
    {
      "cell_type": "code",
      "source": [
        "# inverse\n",
        "\n",
        "torch.inverse(h)"
      ],
      "metadata": {
        "colab": {
          "base_uri": "https://localhost:8080/"
        },
        "id": "gpEJA2n8ZG91",
        "outputId": "e522a9b5-6f37-4d3d-f7e2-8cd6b4c98e71"
      },
      "execution_count": null,
      "outputs": [
        {
          "output_type": "execute_result",
          "data": {
            "text/plain": [
              "tensor([[ 0.1429,  0.0000],\n",
              "        [-0.1905,  0.1667]], dtype=torch.float64)"
            ]
          },
          "metadata": {},
          "execution_count": 15
        }
      ]
    },
    {
      "cell_type": "markdown",
      "source": [
        "# special function\n"
      ],
      "metadata": {
        "id": "PY-E1zDFZ-FO"
      }
    },
    {
      "cell_type": "code",
      "source": [
        "# exp\n",
        "torch.exp(d)"
      ],
      "metadata": {
        "colab": {
          "base_uri": "https://localhost:8080/"
        },
        "id": "G9Ioxsp_Z1ZU",
        "outputId": "9cb1e053-e9d5-4ea0-92fe-585993130d33"
      },
      "execution_count": null,
      "outputs": [
        {
          "output_type": "execute_result",
          "data": {
            "text/plain": [
              "tensor([ 7.3891, 20.0855, 54.5982], dtype=torch.float64)"
            ]
          },
          "metadata": {},
          "execution_count": 16
        }
      ]
    },
    {
      "cell_type": "code",
      "source": [
        "#sqrt\n",
        "\n",
        "torch.sqrt(d)"
      ],
      "metadata": {
        "colab": {
          "base_uri": "https://localhost:8080/"
        },
        "id": "FcWn6ZXfaDMX",
        "outputId": "8f6e045f-e624-418a-fc92-5fe493916c07"
      },
      "execution_count": null,
      "outputs": [
        {
          "output_type": "execute_result",
          "data": {
            "text/plain": [
              "tensor([1.4142, 1.7321, 2.0000], dtype=torch.float64)"
            ]
          },
          "metadata": {},
          "execution_count": 17
        }
      ]
    },
    {
      "cell_type": "code",
      "source": [
        "# sigmoid\n",
        "\n",
        "torch.sigmoid(d)"
      ],
      "metadata": {
        "colab": {
          "base_uri": "https://localhost:8080/"
        },
        "id": "O-hBw87kaHII",
        "outputId": "22758c02-f50e-4d35-a26c-9effc71081e5"
      },
      "execution_count": null,
      "outputs": [
        {
          "output_type": "execute_result",
          "data": {
            "text/plain": [
              "tensor([0.8808, 0.9526, 0.9820], dtype=torch.float64)"
            ]
          },
          "metadata": {},
          "execution_count": 18
        }
      ]
    },
    {
      "cell_type": "code",
      "source": [
        "# softmax\n",
        "\n",
        "# the dtype should be float.\n",
        "\n",
        "torch.softmax(d, dim = 0)"
      ],
      "metadata": {
        "colab": {
          "base_uri": "https://localhost:8080/"
        },
        "id": "lwEHklSVaKWV",
        "outputId": "813193c5-a57e-45f5-84fe-5541b0a9c3e0"
      },
      "execution_count": null,
      "outputs": [
        {
          "output_type": "execute_result",
          "data": {
            "text/plain": [
              "tensor([0.0900, 0.2447, 0.6652], dtype=torch.float64)"
            ]
          },
          "metadata": {},
          "execution_count": 20
        }
      ]
    },
    {
      "cell_type": "code",
      "source": [
        "# relu\n",
        "\n",
        "torch.relu(d)"
      ],
      "metadata": {
        "colab": {
          "base_uri": "https://localhost:8080/"
        },
        "id": "2joGinPBaPBF",
        "outputId": "9fd3ba66-e0e9-4f26-ac4d-7f2abaab19f9"
      },
      "execution_count": null,
      "outputs": [
        {
          "output_type": "execute_result",
          "data": {
            "text/plain": [
              "tensor([2., 3., 4.], dtype=torch.float64)"
            ]
          },
          "metadata": {},
          "execution_count": 21
        }
      ]
    },
    {
      "cell_type": "code",
      "source": [],
      "metadata": {
        "id": "PiupJ5ZVajiu"
      },
      "execution_count": null,
      "outputs": []
    }
  ]
}