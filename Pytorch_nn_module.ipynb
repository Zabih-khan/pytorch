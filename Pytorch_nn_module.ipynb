{
  "nbformat": 4,
  "nbformat_minor": 0,
  "metadata": {
    "colab": {
      "provenance": []
    },
    "kernelspec": {
      "name": "python3",
      "display_name": "Python 3"
    },
    "language_info": {
      "name": "python"
    }
  },
  "cells": [
    {
      "cell_type": "code",
      "execution_count": 3,
      "metadata": {
        "id": "iLJAMBB1GLJn"
      },
      "outputs": [],
      "source": [
        "import torch\n",
        "\n",
        "import torch.nn as nn"
      ]
    },
    {
      "cell_type": "code",
      "source": [
        "import torch.nn as nn\n",
        "\n",
        "class Model(nn.Module):\n",
        "\n",
        "    def __init__(self, input_features):\n",
        "        super().__init__()\n",
        "\n",
        "        # First linear layer\n",
        "        self.input_to_hidden = nn.Linear(input_features, 3)\n",
        "        self.activation = nn.ReLU()  # Activation function for non-linearity\n",
        "\n",
        "        # Second linear layer\n",
        "        self.hidden_to_output = nn.Linear(3, 1)\n",
        "        self.output_activation = nn.Sigmoid()  # Sigmoid for binary classification\n",
        "\n",
        "    def forward(self, input_features):\n",
        "\n",
        "        hidden_output = self.input_to_hidden(input_features)\n",
        "        hidden_output = self.activation(hidden_output)\n",
        "\n",
        "        output = self.hidden_to_output(hidden_output)\n",
        "        output = self.output_activation(output)\n",
        "\n",
        "        return output\n"
      ],
      "metadata": {
        "id": "iNUNc5ypGcYm"
      },
      "execution_count": 23,
      "outputs": []
    },
    {
      "cell_type": "code",
      "source": [
        "#create dataset\n",
        "features = torch.rand(10,5)\n",
        "\n",
        "#create model\n",
        "model = Model(features.shape[1])\n",
        "\n",
        "#call the model for forward pass\n",
        "#model.foward(features)\n",
        "\n",
        "model(features)"
      ],
      "metadata": {
        "colab": {
          "base_uri": "https://localhost:8080/"
        },
        "id": "UHbU_qeFIaqB",
        "outputId": "92e3a1f4-9191-4dbe-ea52-464836d015fc"
      },
      "execution_count": 24,
      "outputs": [
        {
          "output_type": "execute_result",
          "data": {
            "text/plain": [
              "tensor([[0.5261],\n",
              "        [0.5261],\n",
              "        [0.5261],\n",
              "        [0.5261],\n",
              "        [0.5261],\n",
              "        [0.5261],\n",
              "        [0.5261],\n",
              "        [0.5261],\n",
              "        [0.5261],\n",
              "        [0.5261]], grad_fn=<SigmoidBackward0>)"
            ]
          },
          "metadata": {},
          "execution_count": 24
        }
      ]
    },
    {
      "cell_type": "code",
      "source": [
        "# showing model weights\n",
        "model.input_to_hidden.weight"
      ],
      "metadata": {
        "colab": {
          "base_uri": "https://localhost:8080/"
        },
        "id": "jaMdksrRIsyo",
        "outputId": "655c378f-9dda-4fbe-a73b-6d6975f86222"
      },
      "execution_count": 25,
      "outputs": [
        {
          "output_type": "execute_result",
          "data": {
            "text/plain": [
              "Parameter containing:\n",
              "tensor([[-0.1754,  0.0860, -0.1800, -0.2658,  0.1496],\n",
              "        [-0.3434, -0.3819, -0.2036, -0.2514, -0.3455],\n",
              "        [-0.2438,  0.0623, -0.3888,  0.1252, -0.3522]], requires_grad=True)"
            ]
          },
          "metadata": {},
          "execution_count": 25
        }
      ]
    },
    {
      "cell_type": "code",
      "source": [
        "# showing model biase\n",
        "model.input_to_hidden.bias"
      ],
      "metadata": {
        "colab": {
          "base_uri": "https://localhost:8080/"
        },
        "id": "3X-398kWJqcG",
        "outputId": "6ac8bbd6-c053-4b9c-e492-7789d41d310a"
      },
      "execution_count": 26,
      "outputs": [
        {
          "output_type": "execute_result",
          "data": {
            "text/plain": [
              "Parameter containing:\n",
              "tensor([ 0.1285, -0.0259, -0.2948], requires_grad=True)"
            ]
          },
          "metadata": {},
          "execution_count": 26
        }
      ]
    },
    {
      "cell_type": "code",
      "source": [
        "!pip install torchinfo"
      ],
      "metadata": {
        "colab": {
          "base_uri": "https://localhost:8080/"
        },
        "id": "mXYbq3dKJ7uJ",
        "outputId": "47eb470c-3421-40d3-ea88-6bae6eef5dd0"
      },
      "execution_count": 15,
      "outputs": [
        {
          "output_type": "stream",
          "name": "stdout",
          "text": [
            "Collecting torchinfo\n",
            "  Downloading torchinfo-1.8.0-py3-none-any.whl.metadata (21 kB)\n",
            "Downloading torchinfo-1.8.0-py3-none-any.whl (23 kB)\n",
            "Installing collected packages: torchinfo\n",
            "Successfully installed torchinfo-1.8.0\n"
          ]
        }
      ]
    },
    {
      "cell_type": "code",
      "source": [
        "from torchinfo import summary\n",
        "\n",
        "summary(model, input_size = (10,5))"
      ],
      "metadata": {
        "colab": {
          "base_uri": "https://localhost:8080/"
        },
        "id": "9M-t5DJIKH2h",
        "outputId": "16f8c1cc-c71c-46a7-8d90-fcc54d82a5d6"
      },
      "execution_count": 27,
      "outputs": [
        {
          "output_type": "execute_result",
          "data": {
            "text/plain": [
              "==========================================================================================\n",
              "Layer (type:depth-idx)                   Output Shape              Param #\n",
              "==========================================================================================\n",
              "Model                                    [10, 1]                   --\n",
              "├─Linear: 1-1                            [10, 3]                   18\n",
              "├─ReLU: 1-2                              [10, 3]                   --\n",
              "├─Linear: 1-3                            [10, 1]                   4\n",
              "├─Sigmoid: 1-4                           [10, 1]                   --\n",
              "==========================================================================================\n",
              "Total params: 22\n",
              "Trainable params: 22\n",
              "Non-trainable params: 0\n",
              "Total mult-adds (M): 0.00\n",
              "==========================================================================================\n",
              "Input size (MB): 0.00\n",
              "Forward/backward pass size (MB): 0.00\n",
              "Params size (MB): 0.00\n",
              "Estimated Total Size (MB): 0.00\n",
              "=========================================================================================="
            ]
          },
          "metadata": {},
          "execution_count": 27
        }
      ]
    },
    {
      "cell_type": "code",
      "source": [],
      "metadata": {
        "id": "xDXzZODUKQ0K"
      },
      "execution_count": null,
      "outputs": []
    },
    {
      "cell_type": "markdown",
      "source": [
        "# Sequential container"
      ],
      "metadata": {
        "id": "S6BzLoInMOxU"
      }
    },
    {
      "cell_type": "code",
      "source": [
        "import torch.nn as nn\n",
        "\n",
        "class Model(nn.Module):\n",
        "\n",
        "    def __init__(self, input_features):\n",
        "        super().__init__()\n",
        "\n",
        "        self.network = nn.Sequential(\n",
        "              nn.Linear(input_features, 3),\n",
        "              nn.ReLU()  ,\n",
        "              nn.Linear(3, 1),\n",
        "              nn.Sigmoid() ,\n",
        "        )\n",
        "\n",
        "    def forward(self, input_features):\n",
        "\n",
        "      out = self.network(input_features)\n",
        "\n",
        "      return out\n",
        "\n",
        "\n"
      ],
      "metadata": {
        "id": "_1COB0elMRCB"
      },
      "execution_count": 31,
      "outputs": []
    },
    {
      "cell_type": "code",
      "source": [
        "# create dataset\n",
        "\n",
        "features  = torch.rand(10,5)\n",
        "\n",
        "features.shape[1]\n"
      ],
      "metadata": {
        "colab": {
          "base_uri": "https://localhost:8080/"
        },
        "id": "it5WGCElMTZv",
        "outputId": "d503b25f-0879-4021-f39e-f1c3acc77ec1"
      },
      "execution_count": 36,
      "outputs": [
        {
          "output_type": "execute_result",
          "data": {
            "text/plain": [
              "5"
            ]
          },
          "metadata": {},
          "execution_count": 36
        }
      ]
    },
    {
      "cell_type": "code",
      "source": [
        "model = Model(features.shape[1])\n",
        "model.forward(features)"
      ],
      "metadata": {
        "colab": {
          "base_uri": "https://localhost:8080/"
        },
        "id": "Mwk7ARj7Nnij",
        "outputId": "feee9a74-b690-4bf5-eacf-4e5cf9bb8f48"
      },
      "execution_count": 37,
      "outputs": [
        {
          "output_type": "execute_result",
          "data": {
            "text/plain": [
              "tensor([[0.4057],\n",
              "        [0.4048],\n",
              "        [0.4056],\n",
              "        [0.4030],\n",
              "        [0.4052],\n",
              "        [0.4051],\n",
              "        [0.4053],\n",
              "        [0.4052],\n",
              "        [0.4058],\n",
              "        [0.3908]], grad_fn=<SigmoidBackward0>)"
            ]
          },
          "metadata": {},
          "execution_count": 37
        }
      ]
    },
    {
      "cell_type": "code",
      "source": [],
      "metadata": {
        "id": "rf0Rn2X5OCZS"
      },
      "execution_count": null,
      "outputs": []
    }
  ]
}